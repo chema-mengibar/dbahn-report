{
 "cells": [
  {
   "cell_type": "markdown",
   "metadata": {},
   "source": [
    "# Report 3 - DBAHN trains-delays comparison\n",
    "\n",
    "The objective of this notebook is to visualize the delays produced in a city in different hours of the day,  comparing:\n",
    "- the number of trains \n",
    "- the maximum time registered in minutes of the delay\n",
    "\n",
    "For this purpose the trajectories of 3 cities in Germany were captured from day 2019.07.19:\n",
    "- Koblenz\n",
    "- Bonn\n",
    "- Köln\n",
    "\n",
    "## Extension\n",
    "\n",
    "### Multiple Plots\n",
    "This notebook shows the process for 1 day in 1 city. It is possible to extend the functionalities and jointly represent several days and multiple cities.\n",
    "\n",
    "### Extend Dataset\n",
    "It would be interesting to add a third variable showing the evolution of other factors such as weather conditions: rain, temperature, etc.."
   ]
  },
  {
   "cell_type": "code",
   "execution_count": 1,
   "metadata": {
    "scrolled": true
   },
   "outputs": [],
   "source": [
    "# Imports\n",
    "import sys\n",
    "import os\n",
    "import urllib, base64\n",
    "import datetime as dt\n",
    "import numpy as np\n",
    "import pandas as pd\n",
    "import matplotlib.pyplot as plt\n"
   ]
  },
  {
   "cell_type": "markdown",
   "metadata": {},
   "source": [
    "## DATA\n",
    "\n",
    "### Cities DBAHN ID\n",
    "| eva Number  |  City Name |\n",
    "|-------------|-------------|\n",
    "| 8000044  | Bonn Hbf  |\n",
    "| 8000206  | Koblenz Hbf  |\n",
    "| 8000207  | Koeln Hbf  |"
   ]
  },
  {
   "cell_type": "markdown",
   "metadata": {},
   "source": [
    "## Load content log file"
   ]
  },
  {
   "cell_type": "code",
   "execution_count": 2,
   "metadata": {},
   "outputs": [],
   "source": [
    "# Define input files\n",
    "datasetFolder = 'D:/PRO-CODE/dbahn-report/data/master/note-log-cleaner_station-travels/2019.07.19//'\n",
    "datasetFolder_kaggle = '../input'\n",
    "\n",
    "files = [\n",
    "    '19.07.19_travels_Bonn.csv',\n",
    "    '19.07.19_travels_Koblenz.csv',\n",
    "    '19.07.19_travels_Koeln.csv',\n",
    "]\n"
   ]
  },
  {
   "cell_type": "code",
   "execution_count": 3,
   "metadata": {},
   "outputs": [],
   "source": [
    "def loadFile( _datasetFolder, _fileName ):\n",
    "    fullPathFile = _datasetFolder + _fileName\n",
    "    df = pd.read_csv( fullPathFile, engine='python', quoting=1, skip_blank_lines=True,\n",
    "                     sep=\",\", quotechar='\"',\n",
    "                     encoding ='utf-8', dtype={'TSI': 'object'}\n",
    "                    )\n",
    "    return df.replace(np.nan, '', regex=True)"
   ]
  },
  {
   "cell_type": "code",
   "execution_count": 4,
   "metadata": {},
   "outputs": [],
   "source": [
    "dfsDay = [\n",
    "    loadFile( datasetFolder, files[0]),\n",
    "    loadFile( datasetFolder, files[1]),\n",
    "    loadFile( datasetFolder, files[2])\n",
    "]"
   ]
  },
  {
   "cell_type": "code",
   "execution_count": 5,
   "metadata": {},
   "outputs": [
    {
     "data": {
      "text/html": [
       "<div>\n",
       "<style scoped>\n",
       "    .dataframe tbody tr th:only-of-type {\n",
       "        vertical-align: middle;\n",
       "    }\n",
       "\n",
       "    .dataframe tbody tr th {\n",
       "        vertical-align: top;\n",
       "    }\n",
       "\n",
       "    .dataframe thead th {\n",
       "        text-align: right;\n",
       "    }\n",
       "</style>\n",
       "<table border=\"1\" class=\"dataframe\">\n",
       "  <thead>\n",
       "    <tr style=\"text-align: right;\">\n",
       "      <th></th>\n",
       "      <th>TAA</th>\n",
       "      <th>TA</th>\n",
       "      <th>TIN</th>\n",
       "      <th>TIR</th>\n",
       "      <th>TSI</th>\n",
       "      <th>TIM</th>\n",
       "      <th>TIL</th>\n",
       "      <th>TIRE</th>\n",
       "      <th>TIP</th>\n",
       "      <th>TIT</th>\n",
       "      <th>TID</th>\n",
       "      <th>TSC</th>\n",
       "      <th>TAc</th>\n",
       "    </tr>\n",
       "  </thead>\n",
       "  <tbody>\n",
       "    <tr>\n",
       "      <th>0</th>\n",
       "      <td></td>\n",
       "      <td></td>\n",
       "      <td>RE 5(28503)</td>\n",
       "      <td>Wesel 05:05-Dinslaken 05:16-Oberhausen-Holten ...</td>\n",
       "      <td>8000044</td>\n",
       "      <td>arr</td>\n",
       "      <td>/bin/traininfo.exe/dn/36201/392376/529130/2524...</td>\n",
       "      <td>Wesel</td>\n",
       "      <td>3</td>\n",
       "      <td>06:54</td>\n",
       "      <td>19.07.19</td>\n",
       "      <td>Bonn%238000044</td>\n",
       "      <td>0</td>\n",
       "    </tr>\n",
       "  </tbody>\n",
       "</table>\n",
       "</div>"
      ],
      "text/plain": [
       "  TAA TA          TIN                                                TIR  \\\n",
       "0         RE 5(28503)  Wesel 05:05-Dinslaken 05:16-Oberhausen-Holten ...   \n",
       "\n",
       "       TSI  TIM                                                TIL   TIRE  \\\n",
       "0  8000044  arr  /bin/traininfo.exe/dn/36201/392376/529130/2524...  Wesel   \n",
       "\n",
       "   TIP    TIT       TID             TSC  TAc  \n",
       "0    3  06:54  19.07.19  Bonn%238000044    0  "
      ]
     },
     "execution_count": 5,
     "metadata": {},
     "output_type": "execute_result"
    }
   ],
   "source": [
    "dfsDay[0].head(1)"
   ]
  },
  {
   "cell_type": "markdown",
   "metadata": {},
   "source": [
    "# Select the index city\n",
    "\n",
    "- 0: Bonn\n",
    "- 1: Koblenz\n",
    "- 2: Köln"
   ]
  },
  {
   "cell_type": "code",
   "execution_count": 6,
   "metadata": {},
   "outputs": [],
   "source": [
    "# Select the index for the next steps\n",
    "cityIndex = 2"
   ]
  },
  {
   "cell_type": "markdown",
   "metadata": {},
   "source": [
    "# Init"
   ]
  },
  {
   "cell_type": "code",
   "execution_count": 7,
   "metadata": {},
   "outputs": [
    {
     "data": {
      "text/plain": [
       "('8000207', 'Koeln')"
      ]
     },
     "execution_count": 7,
     "metadata": {},
     "output_type": "execute_result"
    }
   ],
   "source": [
    "# Extract City name and code\n",
    "fullCityCode = dfsDay[ cityIndex ].iloc[0]['TSC']\n",
    "cc = fullCityCode.split('%23')\n",
    "cityCode = cc[1]\n",
    "cityName = urllib.parse.unquote(cc[0])\n",
    "\n",
    "cityCode, cityName"
   ]
  },
  {
   "cell_type": "code",
   "execution_count": 8,
   "metadata": {},
   "outputs": [
    {
     "data": {
      "text/plain": [
       "('2019.07.19', 4, 'Friday')"
      ]
     },
     "execution_count": 8,
     "metadata": {},
     "output_type": "execute_result"
    }
   ],
   "source": [
    "# Extract report date\n",
    "reportDate = '20' + dfsDay[ cityIndex ].iloc[0]['TID']\n",
    "reportDayWeekNum =  dt.datetime.strptime( reportDate, '%Y.%m.%d').weekday() # 0 Monday - 6 Sunday\n",
    "reportDayWeekName =  dt.datetime.strptime( reportDate, '%Y.%m.%d').strftime(\"%A\")\n",
    "\n",
    "reportDate, reportDayWeekNum, reportDayWeekName"
   ]
  },
  {
   "cell_type": "markdown",
   "metadata": {},
   "source": [
    "### Base dataframes"
   ]
  },
  {
   "cell_type": "code",
   "execution_count": 9,
   "metadata": {},
   "outputs": [],
   "source": [
    "'''\n",
    "In older versions the delay (TA) was a int. Now is a hh:mm.\n",
    "It´s necessary to calculate the delay in minutes (TAc)\n",
    "'''\n",
    "def calculateDelay( row ):\n",
    "    delay = 0\n",
    "    if row['TA'] is not '':\n",
    "        taHour = dt.datetime.strptime( str(row['TA']), '%H:%M')\n",
    "        titHour = dt.datetime.strptime( str(row['TIT']), '%H:%M')\n",
    "        delay = divmod( ( taHour - titHour ).total_seconds() , 60)[0]  # delay in minutes\n",
    "    return int(delay)"
   ]
  },
  {
   "cell_type": "code",
   "execution_count": 10,
   "metadata": {},
   "outputs": [],
   "source": [
    "def extractDataColumns( _df ):\n",
    "    _df['TAc'] = _df.apply( calculateDelay, axis=1 )\n",
    "    dfSort = _df.sort_values(['TIT', 'TIN'], ascending=[1, 1])\n",
    "    dfF = pd.concat( [\n",
    "            dfSort['TIN'],\n",
    "            dfSort['TAc'],\n",
    "            dfSort['TIT'].apply( lambda t: \n",
    "                                int( dt.datetime.strptime( t, '%H:%M' ).strftime('%H') )\n",
    "            )\n",
    "        ], axis=1, keys=['train', 'delay', 'hour'] ) \\\n",
    "        .reset_index()\n",
    "    return dfF\n"
   ]
  },
  {
   "cell_type": "code",
   "execution_count": 11,
   "metadata": {},
   "outputs": [
    {
     "data": {
      "text/html": [
       "<div>\n",
       "<style scoped>\n",
       "    .dataframe tbody tr th:only-of-type {\n",
       "        vertical-align: middle;\n",
       "    }\n",
       "\n",
       "    .dataframe tbody tr th {\n",
       "        vertical-align: top;\n",
       "    }\n",
       "\n",
       "    .dataframe thead th {\n",
       "        text-align: right;\n",
       "    }\n",
       "</style>\n",
       "<table border=\"1\" class=\"dataframe\">\n",
       "  <thead>\n",
       "    <tr style=\"text-align: right;\">\n",
       "      <th></th>\n",
       "      <th>index</th>\n",
       "      <th>train</th>\n",
       "      <th>delay</th>\n",
       "      <th>hour</th>\n",
       "    </tr>\n",
       "  </thead>\n",
       "  <tbody>\n",
       "    <tr>\n",
       "      <th>0</th>\n",
       "      <td>0</td>\n",
       "      <td>RE 5(28503)</td>\n",
       "      <td>0</td>\n",
       "      <td>6</td>\n",
       "    </tr>\n",
       "    <tr>\n",
       "      <th>1</th>\n",
       "      <td>34</td>\n",
       "      <td>RE 5(28503)</td>\n",
       "      <td>0</td>\n",
       "      <td>6</td>\n",
       "    </tr>\n",
       "  </tbody>\n",
       "</table>\n",
       "</div>"
      ],
      "text/plain": [
       "   index        train  delay  hour\n",
       "0      0  RE 5(28503)      0     6\n",
       "1     34  RE 5(28503)      0     6"
      ]
     },
     "execution_count": 11,
     "metadata": {},
     "output_type": "execute_result"
    }
   ],
   "source": [
    "dfBaseSorted = [\n",
    "    extractDataColumns(dfsDay[0]),\n",
    "    extractDataColumns(dfsDay[1]),\n",
    "    extractDataColumns(dfsDay[2])\n",
    "]\n",
    "\n",
    "dfBaseSorted[0].head(2)"
   ]
  },
  {
   "cell_type": "markdown",
   "metadata": {},
   "source": [
    "### Report data object"
   ]
  },
  {
   "cell_type": "code",
   "execution_count": 12,
   "metadata": {},
   "outputs": [],
   "source": [
    "dfF = dfBaseSorted[ cityIndex ]"
   ]
  },
  {
   "cell_type": "code",
   "execution_count": 13,
   "metadata": {},
   "outputs": [],
   "source": [
    "# Filter/exclude by train-type ?\n",
    "dfF = dfF[ ~(dfF[\"train\"].str.contains(\"S\")) ]"
   ]
  },
  {
   "cell_type": "code",
   "execution_count": 14,
   "metadata": {},
   "outputs": [],
   "source": [
    "g = dfF.groupby(['train','hour'])\n",
    "#g.size()\n",
    "#dfG = g.agg({'delay': ['min', lambda x: x.max(), 'max' ]})\n",
    "\n",
    "dfFG = g.agg({'delay': ['max' ]})\n",
    "\n",
    "dfFG.reset_index( inplace=True)\n",
    "dfFG.columns = ['train','hour','delay_max']"
   ]
  },
  {
   "cell_type": "code",
   "execution_count": 15,
   "metadata": {},
   "outputs": [
    {
     "data": {
      "text/html": [
       "<div>\n",
       "<style scoped>\n",
       "    .dataframe tbody tr th:only-of-type {\n",
       "        vertical-align: middle;\n",
       "    }\n",
       "\n",
       "    .dataframe tbody tr th {\n",
       "        vertical-align: top;\n",
       "    }\n",
       "\n",
       "    .dataframe thead th {\n",
       "        text-align: right;\n",
       "    }\n",
       "</style>\n",
       "<table border=\"1\" class=\"dataframe\">\n",
       "  <thead>\n",
       "    <tr style=\"text-align: right;\">\n",
       "      <th></th>\n",
       "      <th>train</th>\n",
       "      <th>hour</th>\n",
       "      <th>delay_max</th>\n",
       "    </tr>\n",
       "  </thead>\n",
       "  <tbody>\n",
       "    <tr>\n",
       "      <th>0</th>\n",
       "      <td>ICE553</td>\n",
       "      <td>6</td>\n",
       "      <td>0</td>\n",
       "    </tr>\n",
       "    <tr>\n",
       "      <th>1</th>\n",
       "      <td>RB24(11405)</td>\n",
       "      <td>6</td>\n",
       "      <td>0</td>\n",
       "    </tr>\n",
       "    <tr>\n",
       "      <th>2</th>\n",
       "      <td>RB27(12502)</td>\n",
       "      <td>6</td>\n",
       "      <td>0</td>\n",
       "    </tr>\n",
       "    <tr>\n",
       "      <th>3</th>\n",
       "      <td>ICE101</td>\n",
       "      <td>6</td>\n",
       "      <td>0</td>\n",
       "    </tr>\n",
       "    <tr>\n",
       "      <th>4</th>\n",
       "      <td>RB26(25413)</td>\n",
       "      <td>6</td>\n",
       "      <td>0</td>\n",
       "    </tr>\n",
       "  </tbody>\n",
       "</table>\n",
       "</div>"
      ],
      "text/plain": [
       "         train  hour  delay_max\n",
       "0       ICE553     6          0\n",
       "1  RB24(11405)     6          0\n",
       "2  RB27(12502)     6          0\n",
       "3       ICE101     6          0\n",
       "4  RB26(25413)     6          0"
      ]
     },
     "execution_count": 15,
     "metadata": {},
     "output_type": "execute_result"
    }
   ],
   "source": [
    "dfFGS = dfFG.sort_values(['hour'], ascending=[1]).reset_index(drop=True)\n",
    "dfFGS.head(5)"
   ]
  },
  {
   "cell_type": "code",
   "execution_count": 16,
   "metadata": {},
   "outputs": [
    {
     "data": {
      "text/html": [
       "<div>\n",
       "<style scoped>\n",
       "    .dataframe tbody tr th:only-of-type {\n",
       "        vertical-align: middle;\n",
       "    }\n",
       "\n",
       "    .dataframe tbody tr th {\n",
       "        vertical-align: top;\n",
       "    }\n",
       "\n",
       "    .dataframe thead th {\n",
       "        text-align: right;\n",
       "    }\n",
       "</style>\n",
       "<table border=\"1\" class=\"dataframe\">\n",
       "  <thead>\n",
       "    <tr style=\"text-align: right;\">\n",
       "      <th></th>\n",
       "      <th>train_count</th>\n",
       "      <th>delay_max_minutes</th>\n",
       "    </tr>\n",
       "    <tr>\n",
       "      <th>hour</th>\n",
       "      <th></th>\n",
       "      <th></th>\n",
       "    </tr>\n",
       "  </thead>\n",
       "  <tbody>\n",
       "    <tr>\n",
       "      <th>6</th>\n",
       "      <td>6</td>\n",
       "      <td>0</td>\n",
       "    </tr>\n",
       "    <tr>\n",
       "      <th>7</th>\n",
       "      <td>49</td>\n",
       "      <td>49</td>\n",
       "    </tr>\n",
       "    <tr>\n",
       "      <th>8</th>\n",
       "      <td>43</td>\n",
       "      <td>15</td>\n",
       "    </tr>\n",
       "    <tr>\n",
       "      <th>9</th>\n",
       "      <td>42</td>\n",
       "      <td>42</td>\n",
       "    </tr>\n",
       "    <tr>\n",
       "      <th>10</th>\n",
       "      <td>41</td>\n",
       "      <td>28</td>\n",
       "    </tr>\n",
       "    <tr>\n",
       "      <th>11</th>\n",
       "      <td>5</td>\n",
       "      <td>35</td>\n",
       "    </tr>\n",
       "    <tr>\n",
       "      <th>12</th>\n",
       "      <td>41</td>\n",
       "      <td>32</td>\n",
       "    </tr>\n",
       "    <tr>\n",
       "      <th>13</th>\n",
       "      <td>41</td>\n",
       "      <td>90</td>\n",
       "    </tr>\n",
       "    <tr>\n",
       "      <th>14</th>\n",
       "      <td>44</td>\n",
       "      <td>17</td>\n",
       "    </tr>\n",
       "    <tr>\n",
       "      <th>15</th>\n",
       "      <td>47</td>\n",
       "      <td>89</td>\n",
       "    </tr>\n",
       "    <tr>\n",
       "      <th>16</th>\n",
       "      <td>46</td>\n",
       "      <td>58</td>\n",
       "    </tr>\n",
       "    <tr>\n",
       "      <th>17</th>\n",
       "      <td>41</td>\n",
       "      <td>114</td>\n",
       "    </tr>\n",
       "    <tr>\n",
       "      <th>18</th>\n",
       "      <td>45</td>\n",
       "      <td>60</td>\n",
       "    </tr>\n",
       "    <tr>\n",
       "      <th>19</th>\n",
       "      <td>42</td>\n",
       "      <td>57</td>\n",
       "    </tr>\n",
       "    <tr>\n",
       "      <th>20</th>\n",
       "      <td>40</td>\n",
       "      <td>66</td>\n",
       "    </tr>\n",
       "  </tbody>\n",
       "</table>\n",
       "</div>"
      ],
      "text/plain": [
       "      train_count  delay_max_minutes\n",
       "hour                                \n",
       "6               6                  0\n",
       "7              49                 49\n",
       "8              43                 15\n",
       "9              42                 42\n",
       "10             41                 28\n",
       "11              5                 35\n",
       "12             41                 32\n",
       "13             41                 90\n",
       "14             44                 17\n",
       "15             47                 89\n",
       "16             46                 58\n",
       "17             41                114\n",
       "18             45                 60\n",
       "19             42                 57\n",
       "20             40                 66"
      ]
     },
     "execution_count": 16,
     "metadata": {},
     "output_type": "execute_result"
    }
   ],
   "source": [
    " f = {'train' : ['count'],\n",
    "        'delay_max': np.count_nonzero,\n",
    "        'delay_max' : np.max,\n",
    "    }\n",
    "dfFGSM = dfFGS.groupby('hour').agg(f)\n",
    "dfFGSM.columns = ['train_count', 'delay_max_minutes']\n",
    "dfFGSM"
   ]
  },
  {
   "cell_type": "code",
   "execution_count": 17,
   "metadata": {},
   "outputs": [
    {
     "data": {
      "text/html": [
       "<div>\n",
       "<style scoped>\n",
       "    .dataframe tbody tr th:only-of-type {\n",
       "        vertical-align: middle;\n",
       "    }\n",
       "\n",
       "    .dataframe tbody tr th {\n",
       "        vertical-align: top;\n",
       "    }\n",
       "\n",
       "    .dataframe thead th {\n",
       "        text-align: right;\n",
       "    }\n",
       "</style>\n",
       "<table border=\"1\" class=\"dataframe\">\n",
       "  <thead>\n",
       "    <tr style=\"text-align: right;\">\n",
       "      <th>hour</th>\n",
       "      <th>6</th>\n",
       "      <th>7</th>\n",
       "      <th>8</th>\n",
       "      <th>9</th>\n",
       "      <th>10</th>\n",
       "      <th>11</th>\n",
       "      <th>12</th>\n",
       "      <th>13</th>\n",
       "      <th>14</th>\n",
       "      <th>15</th>\n",
       "      <th>16</th>\n",
       "      <th>17</th>\n",
       "      <th>18</th>\n",
       "      <th>19</th>\n",
       "      <th>20</th>\n",
       "    </tr>\n",
       "  </thead>\n",
       "  <tbody>\n",
       "    <tr>\n",
       "      <th>train_count</th>\n",
       "      <td>6</td>\n",
       "      <td>49</td>\n",
       "      <td>43</td>\n",
       "      <td>42</td>\n",
       "      <td>41</td>\n",
       "      <td>5</td>\n",
       "      <td>41</td>\n",
       "      <td>41</td>\n",
       "      <td>44</td>\n",
       "      <td>47</td>\n",
       "      <td>46</td>\n",
       "      <td>41</td>\n",
       "      <td>45</td>\n",
       "      <td>42</td>\n",
       "      <td>40</td>\n",
       "    </tr>\n",
       "    <tr>\n",
       "      <th>delay_max_minutes</th>\n",
       "      <td>0</td>\n",
       "      <td>49</td>\n",
       "      <td>15</td>\n",
       "      <td>42</td>\n",
       "      <td>28</td>\n",
       "      <td>35</td>\n",
       "      <td>32</td>\n",
       "      <td>90</td>\n",
       "      <td>17</td>\n",
       "      <td>89</td>\n",
       "      <td>58</td>\n",
       "      <td>114</td>\n",
       "      <td>60</td>\n",
       "      <td>57</td>\n",
       "      <td>66</td>\n",
       "    </tr>\n",
       "  </tbody>\n",
       "</table>\n",
       "</div>"
      ],
      "text/plain": [
       "hour               6   7   8   9   10  11  12  13  14  15  16   17  18  19  20\n",
       "train_count         6  49  43  42  41   5  41  41  44  47  46   41  45  42  40\n",
       "delay_max_minutes   0  49  15  42  28  35  32  90  17  89  58  114  60  57  66"
      ]
     },
     "execution_count": 17,
     "metadata": {},
     "output_type": "execute_result"
    }
   ],
   "source": [
    "dfFGSM180 = dfFGSM.transpose()\n",
    "dfFGSM180"
   ]
  },
  {
   "cell_type": "markdown",
   "metadata": {},
   "source": [
    "# Plot"
   ]
  },
  {
   "cell_type": "code",
   "execution_count": 18,
   "metadata": {},
   "outputs": [
    {
     "data": {
      "image/png": "[encoded data removed]",
      "text/plain": [
       "<Figure size 1296x504 with 1 Axes>"
      ]
     },
     "metadata": {
      "needs_background": "light"
     },
     "output_type": "display_data"
    }
   ],
   "source": [
    "fig, ax = plt.subplots(figsize=(18,7))\n",
    "plt.style.use('seaborn')\n",
    "dfFGSM.plot(ax=ax, kind='bar')\n",
    "plt.title('Trains and Minutes delay in ' + cityName + ' - ' + reportDate)\n",
    "plt.show()"
   ]
  },
  {
   "cell_type": "code",
   "execution_count": 19,
   "metadata": {},
   "outputs": [],
   "source": [
    "plotName = 'delays-03-cityhours__' + cityName + '-' + str(reportDate)\n",
    "fig.savefig( 'D:/PRO-CODE/dbahn-report/project/reports//' + plotName + '.png', dpi=125)"
   ]
  },
  {
   "cell_type": "markdown",
   "metadata": {},
   "source": [
    "### Output object"
   ]
  },
  {
   "cell_type": "code",
   "execution_count": 20,
   "metadata": {},
   "outputs": [
    {
     "data": {
      "text/plain": [
       "{'cityCode': '8000207',\n",
       " 'cityName': 'Koeln',\n",
       " 'reportDate': '2019.07.19',\n",
       " 'reportDayWeek': 4,\n",
       " 'df': hour               6   7   8   9   10  11  12  13  14  15  16   17  18  19  20\n",
       " train_count         6  49  43  42  41   5  41  41  44  47  46   41  45  42  40\n",
       " delay_max_minutes   0  49  15  42  28  35  32  90  17  89  58  114  60  57  66}"
      ]
     },
     "execution_count": 20,
     "metadata": {},
     "output_type": "execute_result"
    }
   ],
   "source": [
    "reportCityDateTrains = {\n",
    "    'cityCode'  : cityCode,\n",
    "    'cityName'  : cityName,\n",
    "    'reportDate': reportDate,\n",
    "    'reportDayWeek': reportDayWeekNum,\n",
    "    'df' : dfFGSM180\n",
    "}\n",
    "reportCityDateTrains"
   ]
  }
 ],
 "metadata": {
  "kernelspec": {
   "display_name": "Python 3",
   "language": "python",
   "name": "python3"
  },
  "language_info": {
   "codemirror_mode": {
    "name": "ipython",
    "version": 3
   },
   "file_extension": ".py",
   "mimetype": "text/x-python",
   "name": "python",
   "nbconvert_exporter": "python",
   "pygments_lexer": "ipython3",
   "version": "3.7.1"
  }
 },
 "nbformat": 4,
 "nbformat_minor": 2
}
